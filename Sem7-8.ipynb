{
 "cells": [
  {
   "cell_type": "code",
   "execution_count": 5,
   "metadata": {},
   "outputs": [],
   "source": [
    "\n",
    "# сначала нужно обязательно импортировать модуль!\n",
    "import os"
   ]
  },
  {
   "cell_type": "code",
   "execution_count": 6,
   "metadata": {},
   "outputs": [
    {
     "ename": "FileNotFoundError",
     "evalue": "[Errno 2] No such file or directory: 'jabberwocky.txt' -> 'Jabberwocky.txt'",
     "output_type": "error",
     "traceback": [
      "\u001b[0;31m---------------------------------------------------------------------------\u001b[0m",
      "\u001b[0;31mFileNotFoundError\u001b[0m                         Traceback (most recent call last)",
      "\u001b[0;32m<ipython-input-6-257bb95f5346>\u001b[0m in \u001b[0;36m<module>\u001b[0;34m()\u001b[0m\n\u001b[0;32m----> 1\u001b[0;31m \u001b[0mos\u001b[0m\u001b[0;34m.\u001b[0m\u001b[0mrename\u001b[0m\u001b[0;34m(\u001b[0m\u001b[0;34m'jabberwocky.txt'\u001b[0m\u001b[0;34m,\u001b[0m \u001b[0;34m'Jabberwocky.txt'\u001b[0m\u001b[0;34m)\u001b[0m \u001b[0;31m#dobavit\u001b[0m\u001b[0;34m\u001b[0m\u001b[0m\n\u001b[0m\u001b[1;32m      2\u001b[0m \u001b[0mos\u001b[0m\u001b[0;34m.\u001b[0m\u001b[0mremove\u001b[0m\u001b[0;34m(\u001b[0m\u001b[0;34m'Jabberwocky.txt'\u001b[0m\u001b[0;34m)\u001b[0m\u001b[0;34m\u001b[0m\u001b[0m\n",
      "\u001b[0;31mFileNotFoundError\u001b[0m: [Errno 2] No such file or directory: 'jabberwocky.txt' -> 'Jabberwocky.txt'"
     ]
    }
   ],
   "source": [
    "os.rename('jabberwocky.txt', 'Jabberwocky.txt') #dobavit\n",
    "os.remove('Jabberwocky.txt')"
   ]
  },
  {
   "cell_type": "code",
   "execution_count": 25,
   "metadata": {},
   "outputs": [
    {
     "name": "stdout",
     "output_type": "stream",
     "text": [
      "/Users/alinarabota/Desktop/pythoncourse \n"
     ]
    }
   ],
   "source": [
    "\n",
    "# посмотрим, в какой папке мы находимся\n",
    "print(os.getcwd())\n"
   ]
  },
  {
   "cell_type": "code",
   "execution_count": 23,
   "metadata": {},
   "outputs": [
    {
     "name": "stdout",
     "output_type": "stream",
     "text": [
      ".DS_Store\n",
      "9\n",
      "Icon\r\n",
      "5\n",
      "python-dh-hw\n",
      "12\n",
      ".ipynb_checkpoints\n",
      "18\n",
      "python-dh-h1w\n",
      "13\n"
     ]
    }
   ],
   "source": [
    "for file in os.listdir('.'): \n",
    "    print(file) # точка = текущая папка\n",
    "    print(len(file))"
   ]
  },
  {
   "cell_type": "code",
   "execution_count": 24,
   "metadata": {},
   "outputs": [
    {
     "ename": "FileNotFoundError",
     "evalue": "[Errno 2] No such file or directory: 'poems'",
     "output_type": "error",
     "traceback": [
      "\u001b[0;31m---------------------------------------------------------------------------\u001b[0m",
      "\u001b[0;31mFileNotFoundError\u001b[0m                         Traceback (most recent call last)",
      "\u001b[0;32m<ipython-input-24-c72972f01177>\u001b[0m in \u001b[0;36m<module>\u001b[0;34m()\u001b[0m\n\u001b[0;32m----> 1\u001b[0;31m \u001b[0;32mfor\u001b[0m \u001b[0mfile\u001b[0m \u001b[0;32min\u001b[0m \u001b[0mos\u001b[0m\u001b[0;34m.\u001b[0m\u001b[0mlistdir\u001b[0m\u001b[0;34m(\u001b[0m\u001b[0;34m'poems'\u001b[0m\u001b[0;34m)\u001b[0m\u001b[0;34m:\u001b[0m\u001b[0;34m\u001b[0m\u001b[0m\n\u001b[0m\u001b[1;32m      2\u001b[0m     \u001b[0mprint\u001b[0m\u001b[0;34m(\u001b[0m\u001b[0mfile\u001b[0m\u001b[0;34m)\u001b[0m\u001b[0;34m\u001b[0m\u001b[0m\n",
      "\u001b[0;31mFileNotFoundError\u001b[0m: [Errno 2] No such file or directory: 'poems'"
     ]
    }
   ],
   "source": [
    "for file in os.listdir('poems'): \n",
    "    print(file)"
   ]
  },
  {
   "cell_type": "code",
   "execution_count": 10,
   "metadata": {},
   "outputs": [
    {
     "data": {
      "text/plain": [
       "'/Users/alinarabota/Desktop/pythoncourse '"
      ]
     },
     "execution_count": 10,
     "metadata": {},
     "output_type": "execute_result"
    }
   ],
   "source": [
    "os.chdir('..')\n",
    "os.getcwd()\n"
   ]
  },
  {
   "cell_type": "code",
   "execution_count": 11,
   "metadata": {
    "collapsed": true
   },
   "outputs": [],
   "source": [
    "os.mkdir('./new')"
   ]
  },
  {
   "cell_type": "code",
   "execution_count": 13,
   "metadata": {},
   "outputs": [],
   "source": [
    "os.makedirs('./new/texts/poems')"
   ]
  },
  {
   "cell_type": "code",
   "execution_count": 14,
   "metadata": {
    "collapsed": true
   },
   "outputs": [],
   "source": [
    "os.removedirs('./new/texts/poems')"
   ]
  },
  {
   "cell_type": "code",
   "execution_count": 15,
   "metadata": {},
   "outputs": [
    {
     "data": {
      "text/plain": [
       "False"
      ]
     },
     "execution_count": 15,
     "metadata": {},
     "output_type": "execute_result"
    }
   ],
   "source": [
    "os.path.exists('./new')"
   ]
  },
  {
   "cell_type": "code",
   "execution_count": 16,
   "metadata": {},
   "outputs": [
    {
     "ename": "FileNotFoundError",
     "evalue": "[Errno 2] No such file or directory: './7'",
     "output_type": "error",
     "traceback": [
      "\u001b[0;31m---------------------------------------------------------------------------\u001b[0m",
      "\u001b[0;31mFileNotFoundError\u001b[0m                         Traceback (most recent call last)",
      "\u001b[0;32m<ipython-input-16-b2664ac1207f>\u001b[0m in \u001b[0;36m<module>\u001b[0;34m()\u001b[0m\n\u001b[0;32m----> 1\u001b[0;31m \u001b[0mos\u001b[0m\u001b[0;34m.\u001b[0m\u001b[0mchdir\u001b[0m\u001b[0;34m(\u001b[0m\u001b[0;34m'./7'\u001b[0m\u001b[0;34m)\u001b[0m\u001b[0;34m\u001b[0m\u001b[0m\n\u001b[0m",
      "\u001b[0;31mFileNotFoundError\u001b[0m: [Errno 2] No such file or directory: './7'"
     ]
    }
   ],
   "source": [
    "os.chdir('./7')"
   ]
  },
  {
   "cell_type": "code",
   "execution_count": 18,
   "metadata": {},
   "outputs": [
    {
     "name": "stdout",
     "output_type": "stream",
     "text": [
      "False\n",
      "False\n",
      "False\n"
     ]
    }
   ],
   "source": [
    "\n",
    "# существует ли путь?\n",
    "print(os.path.exists('Jabberwocky.txt'))\n",
    "\n",
    "# Является ли объект пути обычным файлом? (существующим)\n",
    "print(os.path.isfile('2.png'))\n",
    "\n",
    "# Является ли объект пути обычной папкой? (существующей)\n",
    "print(os.path.isdir('../4'))"
   ]
  },
  {
   "cell_type": "code",
   "execution_count": 31,
   "metadata": {
    "collapsed": true
   },
   "outputs": [],
   "source": [
    "for root, dirs, files in os.walk('/Users/alinarabota/Desktop/pythoncourse'):\n",
    "    print(root)\n",
    "    print(dirs)"
   ]
  },
  {
   "cell_type": "code",
   "execution_count": 26,
   "metadata": {},
   "outputs": [
    {
     "name": "stdout",
     "output_type": "stream",
     "text": [
      "/Users/alinarabota/Desktop/pythoncourse \n"
     ]
    }
   ],
   "source": [
    "print(os.getcwd())"
   ]
  },
  {
   "cell_type": "code",
   "execution_count": 28,
   "metadata": {},
   "outputs": [],
   "source": [
    "os.chdir('./python-dh-hw')"
   ]
  },
  {
   "cell_type": "code",
   "execution_count": 32,
   "metadata": {},
   "outputs": [
    {
     "data": {
      "text/plain": [
       "'/Users/alinarabota/Desktop/pythoncourse /python-dh-hw'"
      ]
     },
     "execution_count": 32,
     "metadata": {},
     "output_type": "execute_result"
    }
   ],
   "source": [
    "os.getcwd()"
   ]
  },
  {
   "cell_type": "code",
   "execution_count": 33,
   "metadata": {},
   "outputs": [
    {
     "name": "stdout",
     "output_type": "stream",
     "text": [
      "/Users/alinarabota/Desktop/pythoncourse /python-dh-hw/.DS_Store\n",
      "/Users/alinarabota/Desktop/pythoncourse /python-dh-hw/Sem7-8.ipynb\n",
      "/Users/alinarabota/Desktop/pythoncourse /python-dh-hw/README.md\n",
      "/Users/alinarabota/Desktop/pythoncourse /python-dh-hw/HW1.ipynb\n",
      "/Users/alinarabota/Desktop/pythoncourse /python-dh-hw/HW2.ipynb\n",
      "/Users/alinarabota/Desktop/pythoncourse /python-dh-hw/.ipynb_checkpoints/HW2-checkpoint.ipynb\n",
      "/Users/alinarabota/Desktop/pythoncourse /python-dh-hw/.ipynb_checkpoints/Sem7-8-checkpoint.ipynb\n",
      "/Users/alinarabota/Desktop/pythoncourse /python-dh-hw/poems/шредингер.txt\n",
      "/Users/alinarabota/Desktop/pythoncourse /python-dh-hw/poems/.DS_Store\n",
      "/Users/alinarabota/Desktop/pythoncourse /python-dh-hw/poems/боль.txt\n",
      "/Users/alinarabota/Desktop/pythoncourse /python-dh-hw/poems/ворон.txt\n",
      "/Users/alinarabota/Desktop/pythoncourse /python-dh-hw/poems/кладь.txt\n",
      "/Users/alinarabota/Desktop/pythoncourse /python-dh-hw/poems/деды.txt\n",
      "/Users/alinarabota/Desktop/pythoncourse /python-dh-hw/poems/ночь.txt\n",
      "/Users/alinarabota/Desktop/pythoncourse /python-dh-hw/poems/сказки/король.txt\n",
      "/Users/alinarabota/Desktop/pythoncourse /python-dh-hw/poems/сказки/крестная.txt\n",
      "/Users/alinarabota/Desktop/pythoncourse /python-dh-hw/poems/сказки/гримм.txt\n",
      "/Users/alinarabota/Desktop/pythoncourse /python-dh-hw/poems/сказки/королевич.txt\n",
      "/Users/alinarabota/Desktop/pythoncourse /python-dh-hw/poems/сказки/яга.txt\n",
      "/Users/alinarabota/Desktop/pythoncourse /python-dh-hw/poems/котики/кот.txt\n",
      "/Users/alinarabota/Desktop/pythoncourse /python-dh-hw/poems/котики/пушок.txt\n",
      "/Users/alinarabota/Desktop/pythoncourse /python-dh-hw/poems/котики/лео.txt\n",
      "/Users/alinarabota/Desktop/pythoncourse /python-dh-hw/.git/ORIG_HEAD\n",
      "/Users/alinarabota/Desktop/pythoncourse /python-dh-hw/.git/config\n",
      "/Users/alinarabota/Desktop/pythoncourse /python-dh-hw/.git/HEAD\n",
      "/Users/alinarabota/Desktop/pythoncourse /python-dh-hw/.git/description\n",
      "/Users/alinarabota/Desktop/pythoncourse /python-dh-hw/.git/index\n",
      "/Users/alinarabota/Desktop/pythoncourse /python-dh-hw/.git/packed-refs\n",
      "/Users/alinarabota/Desktop/pythoncourse /python-dh-hw/.git/COMMIT_EDITMSG\n",
      "/Users/alinarabota/Desktop/pythoncourse /python-dh-hw/.git/FETCH_HEAD\n",
      "/Users/alinarabota/Desktop/pythoncourse /python-dh-hw/.git/objects/0b/4181b90dfcb5d4741e740fe54b63512ca9688c\n",
      "/Users/alinarabota/Desktop/pythoncourse /python-dh-hw/.git/objects/0b/63bb262a8f153c06f9c495eba7bd7f5cff6c94\n",
      "/Users/alinarabota/Desktop/pythoncourse /python-dh-hw/.git/objects/94/cdc189fbc42bcec7294d7170941a42763abc03\n",
      "/Users/alinarabota/Desktop/pythoncourse /python-dh-hw/.git/objects/0e/1ebc2924cdd39d006e83dd1508d105ac11d350\n",
      "/Users/alinarabota/Desktop/pythoncourse /python-dh-hw/.git/objects/5f/fa329066a6b58b009560bcc99d2bdac12bd844\n",
      "/Users/alinarabota/Desktop/pythoncourse /python-dh-hw/.git/objects/a4/b5672e27f226dd06d1a211f5d2ef4ee5d18e34\n",
      "/Users/alinarabota/Desktop/pythoncourse /python-dh-hw/.git/objects/d7/503901331735e90ea877be69776c9c2400babb\n",
      "/Users/alinarabota/Desktop/pythoncourse /python-dh-hw/.git/objects/be/aaaed2a61eb9ac124a4b595247d672a739199d\n",
      "/Users/alinarabota/Desktop/pythoncourse /python-dh-hw/.git/objects/b3/f0d36996647a8ca545ddfcde65c6ca36d8a15e\n",
      "/Users/alinarabota/Desktop/pythoncourse /python-dh-hw/.git/objects/45/09caea1f7a8d32569d27530463a4e1f07f7617\n",
      "/Users/alinarabota/Desktop/pythoncourse /python-dh-hw/.git/objects/87/610e3166db412ae6c894983fb239225d2bc6fd\n",
      "/Users/alinarabota/Desktop/pythoncourse /python-dh-hw/.git/objects/17/836da87864fe3d8a23f97475dcd3e169d4b04d\n",
      "/Users/alinarabota/Desktop/pythoncourse /python-dh-hw/.git/objects/4c/e0e21786559c2475172f0469ba7c294a578d3b\n",
      "/Users/alinarabota/Desktop/pythoncourse /python-dh-hw/.git/objects/9a/c1b1d5e25d324f5ba513aed1f6a7dcc33fea51\n",
      "/Users/alinarabota/Desktop/pythoncourse /python-dh-hw/.git/objects/53/34f92d7282c8e01be39ca09a24f50e1e96cb28\n",
      "/Users/alinarabota/Desktop/pythoncourse /python-dh-hw/.git/objects/08/ccb1a3a084cc1787fa03752f0a34c0096e01f2\n",
      "/Users/alinarabota/Desktop/pythoncourse /python-dh-hw/.git/objects/6d/99b93b930ea74f8eb5980bc64a476282a204e8\n",
      "/Users/alinarabota/Desktop/pythoncourse /python-dh-hw/.git/objects/64/a42a2808ce1b312a57286d046e468ef99c6d2b\n",
      "/Users/alinarabota/Desktop/pythoncourse /python-dh-hw/.git/objects/a9/f22ebfd6495d5ff348502457d04a3a2055828a\n",
      "/Users/alinarabota/Desktop/pythoncourse /python-dh-hw/.git/objects/b7/1e2b20fe35c878190cc046c50d80f7752b1480\n",
      "/Users/alinarabota/Desktop/pythoncourse /python-dh-hw/.git/objects/b9/4896138fd31c4a9b7ab538de5da8041cc953ae\n",
      "/Users/alinarabota/Desktop/pythoncourse /python-dh-hw/.git/objects/ea/d90fb8dcb309f31a53938fa95e14db1e5bd5e4\n",
      "/Users/alinarabota/Desktop/pythoncourse /python-dh-hw/.git/objects/e1/746d56e60ec16c22c5f12389eaafaf9d0e92fd\n",
      "/Users/alinarabota/Desktop/pythoncourse /python-dh-hw/.git/objects/fa/76ed78ca691414206ed40a52af59d7fef7e4de\n",
      "/Users/alinarabota/Desktop/pythoncourse /python-dh-hw/.git/objects/77/ab3eb0689e642436906200a5eb9f6e2402cb6b\n",
      "/Users/alinarabota/Desktop/pythoncourse /python-dh-hw/.git/objects/1d/c61fd8073ebd85de311d6963243c8ff1db42a9\n",
      "/Users/alinarabota/Desktop/pythoncourse /python-dh-hw/.git/objects/82/2f56c64508f37aea8321c0b71ab9fcaca8c4f8\n",
      "/Users/alinarabota/Desktop/pythoncourse /python-dh-hw/.git/objects/40/1b330e6066c0c4e4b46f85ca4b3a8470c4bf2b\n",
      "/Users/alinarabota/Desktop/pythoncourse /python-dh-hw/.git/objects/2e/1a6870d308436f473a8b6ffae3da3ea45652a3\n",
      "/Users/alinarabota/Desktop/pythoncourse /python-dh-hw/.git/objects/22/ba6f4b554f9e9357b184af09df907bdcb86414\n",
      "/Users/alinarabota/Desktop/pythoncourse /python-dh-hw/.git/info/exclude\n",
      "/Users/alinarabota/Desktop/pythoncourse /python-dh-hw/.git/logs/HEAD\n",
      "/Users/alinarabota/Desktop/pythoncourse /python-dh-hw/.git/logs/refs/heads/master\n",
      "/Users/alinarabota/Desktop/pythoncourse /python-dh-hw/.git/logs/refs/remotes/origin/HEAD\n",
      "/Users/alinarabota/Desktop/pythoncourse /python-dh-hw/.git/logs/refs/remotes/origin/master\n",
      "/Users/alinarabota/Desktop/pythoncourse /python-dh-hw/.git/hooks/commit-msg.sample\n",
      "/Users/alinarabota/Desktop/pythoncourse /python-dh-hw/.git/hooks/pre-rebase.sample\n",
      "/Users/alinarabota/Desktop/pythoncourse /python-dh-hw/.git/hooks/pre-commit.sample\n",
      "/Users/alinarabota/Desktop/pythoncourse /python-dh-hw/.git/hooks/applypatch-msg.sample\n",
      "/Users/alinarabota/Desktop/pythoncourse /python-dh-hw/.git/hooks/fsmonitor-watchman.sample\n",
      "/Users/alinarabota/Desktop/pythoncourse /python-dh-hw/.git/hooks/pre-receive.sample\n",
      "/Users/alinarabota/Desktop/pythoncourse /python-dh-hw/.git/hooks/prepare-commit-msg.sample\n",
      "/Users/alinarabota/Desktop/pythoncourse /python-dh-hw/.git/hooks/post-update.sample\n",
      "/Users/alinarabota/Desktop/pythoncourse /python-dh-hw/.git/hooks/pre-applypatch.sample\n",
      "/Users/alinarabota/Desktop/pythoncourse /python-dh-hw/.git/hooks/pre-push.sample\n",
      "/Users/alinarabota/Desktop/pythoncourse /python-dh-hw/.git/hooks/update.sample\n",
      "/Users/alinarabota/Desktop/pythoncourse /python-dh-hw/.git/refs/heads/master\n",
      "/Users/alinarabota/Desktop/pythoncourse /python-dh-hw/.git/refs/remotes/origin/HEAD\n",
      "/Users/alinarabota/Desktop/pythoncourse /python-dh-hw/.git/refs/remotes/origin/master\n"
     ]
    }
   ],
   "source": [
    "for root,dirs,files in os.walk('/Users/alinarabota/Desktop/pythoncourse /python-dh-hw'):\n",
    "    #     print(root)\n",
    "#     print(dirs)\n",
    "    for name in files:\n",
    "        fullname = os.path.join(root, name)\n",
    "        print(fullname)"
   ]
  },
  {
   "cell_type": "code",
   "execution_count": null,
   "metadata": {
    "collapsed": true
   },
   "outputs": [],
   "source": []
  }
 ],
 "metadata": {
  "kernelspec": {
   "display_name": "Python 3",
   "language": "python",
   "name": "python3"
  },
  "language_info": {
   "codemirror_mode": {
    "name": "ipython",
    "version": 3
   },
   "file_extension": ".py",
   "mimetype": "text/x-python",
   "name": "python",
   "nbconvert_exporter": "python",
   "pygments_lexer": "ipython3",
   "version": "3.6.1"
  }
 },
 "nbformat": 4,
 "nbformat_minor": 2
}
